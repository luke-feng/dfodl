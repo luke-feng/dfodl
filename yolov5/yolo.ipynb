{
 "cells": [
  {
   "cell_type": "code",
   "execution_count": 1,
   "metadata": {},
   "outputs": [],
   "source": [
    "import torch\n",
    "from ultralytics import YOLO"
   ]
  },
  {
   "cell_type": "code",
   "execution_count": 4,
   "metadata": {},
   "outputs": [
    {
     "name": "stdout",
     "output_type": "stream",
     "text": [
      "\u001b[34m\u001b[1mgithub: \u001b[0mskipping check (not a git repository), for updates see https://github.com/ultralytics/yolov5\n"
     ]
    },
    {
     "name": "stderr",
     "output_type": "stream",
     "text": [
      "\u001b[34m\u001b[1mtrain: \u001b[0mweights='', cfg=models/yolov5n.yaml, data=coco.yaml, hyp=data\\hyps\\hyp.scratch-low.yaml, epochs=3, batch_size=16, imgsz=640, rect=False, resume=False, nosave=False, noval=False, noautoanchor=False, noplots=False, evolve=None, evolve_population=data\\hyps, resume_evolve=None, bucket=, cache=None, image_weights=False, device=, multi_scale=False, single_cls=False, optimizer=SGD, sync_bn=False, workers=8, project=runs\\train, name=yolov5n_coco, exist_ok=False, quad=False, cos_lr=False, label_smoothing=0.0, patience=100, freeze=[0], save_period=-1, seed=0, local_rank=-1, entity=None, upload_dataset=False, bbox_interval=-1, artifact_alias=latest, ndjson_console=False, ndjson_file=False\n",
      "YOLOv5  2025-1-30 Python-3.11.9 torch-2.5.1+cpu CPU\n",
      "\n",
      "\u001b[34m\u001b[1mhyperparameters: \u001b[0mlr0=0.01, lrf=0.01, momentum=0.937, weight_decay=0.0005, warmup_epochs=3.0, warmup_momentum=0.8, warmup_bias_lr=0.1, box=0.05, cls=0.5, cls_pw=1.0, obj=1.0, obj_pw=1.0, iou_t=0.2, anchor_t=4.0, fl_gamma=0.0, hsv_h=0.015, hsv_s=0.7, hsv_v=0.4, degrees=0.0, translate=0.1, scale=0.5, shear=0.0, perspective=0.0, flipud=0.0, fliplr=0.5, mosaic=1.0, mixup=0.0, copy_paste=0.0\n",
      "\u001b[34m\u001b[1mComet: \u001b[0mrun 'pip install comet_ml' to automatically track and visualize YOLOv5  runs in Comet\n",
      "\u001b[34m\u001b[1mTensorBoard: \u001b[0mStart with 'tensorboard --logdir runs\\train', view at http://localhost:6006/\n",
      "\n",
      "                 from  n    params  module                                  arguments                     \n",
      "  0                -1  1      1760  models.common.Conv                      [3, 16, 6, 2, 2]              \n",
      "  1                -1  1      4672  models.common.Conv                      [16, 32, 3, 2]                \n",
      "  2                -1  1      4800  models.common.C3                        [32, 32, 1]                   \n",
      "  3                -1  1     18560  models.common.Conv                      [32, 64, 3, 2]                \n",
      "  4                -1  2     29184  models.common.C3                        [64, 64, 2]                   \n",
      "  5                -1  1     73984  models.common.Conv                      [64, 128, 3, 2]               \n",
      "  6                -1  3    156928  models.common.C3                        [128, 128, 3]                 \n",
      "  7                -1  1    295424  models.common.Conv                      [128, 256, 3, 2]              \n",
      "  8                -1  1    296448  models.common.C3                        [256, 256, 1]                 \n",
      "  9                -1  1    164608  models.common.SPPF                      [256, 256, 5]                 \n",
      " 10                -1  1     33024  models.common.Conv                      [256, 128, 1, 1]              \n",
      " 11                -1  1         0  torch.nn.modules.upsampling.Upsample    [None, 2, 'nearest']          \n",
      " 12           [-1, 6]  1         0  models.common.Concat                    [1]                           \n",
      " 13                -1  1     90880  models.common.C3                        [256, 128, 1, False]          \n",
      " 14                -1  1      8320  models.common.Conv                      [128, 64, 1, 1]               \n",
      " 15                -1  1         0  torch.nn.modules.upsampling.Upsample    [None, 2, 'nearest']          \n",
      " 16           [-1, 4]  1         0  models.common.Concat                    [1]                           \n",
      " 17                -1  1     22912  models.common.C3                        [128, 64, 1, False]           \n",
      " 18                -1  1     36992  models.common.Conv                      [64, 64, 3, 2]                \n",
      " 19          [-1, 14]  1         0  models.common.Concat                    [1]                           \n",
      " 20                -1  1     74496  models.common.C3                        [128, 128, 1, False]          \n",
      " 21                -1  1    147712  models.common.Conv                      [128, 128, 3, 2]              \n",
      " 22          [-1, 10]  1         0  models.common.Concat                    [1]                           \n",
      " 23                -1  1    296448  models.common.C3                        [256, 256, 1, False]          \n",
      " 24      [17, 20, 23]  1    115005  models.yolo.Detect                      [80, [[10, 13, 16, 30, 33, 23], [30, 61, 62, 45, 59, 119], [116, 90, 156, 198, 373, 326]], [64, 128, 256]]\n",
      "YOLOv5n summary: 214 layers, 1872157 parameters, 1872157 gradients, 4.6 GFLOPs\n",
      "\n",
      "\u001b[34m\u001b[1moptimizer:\u001b[0m SGD(lr=0.01) with parameter groups 57 weight(decay=0.0), 60 weight(decay=0.0005), 60 bias\n",
      "\n",
      "\u001b[34m\u001b[1mtrain: \u001b[0mScanning C:\\Users\\luke-\\Documents\\git\\yolo\\datasets\\coco\\train2017...:   0%|          | 0/6148 [00:00<?, ?it/s]\n",
      "\u001b[34m\u001b[1mtrain: \u001b[0mScanning C:\\Users\\luke-\\Documents\\git\\yolo\\datasets\\coco\\train2017... 0 images, 1 backgrounds, 0 corrupt:   0%|          | 1/6148 [00:19<32:56:09, 19.29s/it]\n",
      "\u001b[34m\u001b[1mtrain: \u001b[0mScanning C:\\Users\\luke-\\Documents\\git\\yolo\\datasets\\coco\\train2017... 0 images, 135 backgrounds, 0 corrupt:   2%|▏         | 135/6148 [00:19<10:07,  9.90it/s]\n",
      "\u001b[34m\u001b[1mtrain: \u001b[0mScanning C:\\Users\\luke-\\Documents\\git\\yolo\\datasets\\coco\\train2017... 0 images, 325 backgrounds, 0 corrupt:   5%|▌         | 325/6148 [00:19<03:17, 29.53it/s]\n",
      "\u001b[34m\u001b[1mtrain: \u001b[0mScanning C:\\Users\\luke-\\Documents\\git\\yolo\\datasets\\coco\\train2017... 0 images, 499 backgrounds, 0 corrupt:   8%|▊         | 499/6148 [00:19<01:43, 54.53it/s]\n",
      "\u001b[34m\u001b[1mtrain: \u001b[0mScanning C:\\Users\\luke-\\Documents\\git\\yolo\\datasets\\coco\\train2017... 0 images, 666 backgrounds, 0 corrupt:  11%|█         | 666/6148 [00:19<01:02, 87.52it/s]\n",
      "\u001b[34m\u001b[1mtrain: \u001b[0mScanning C:\\Users\\luke-\\Documents\\git\\yolo\\datasets\\coco\\train2017... 0 images, 836 backgrounds, 0 corrupt:  14%|█▎        | 836/6148 [00:19<00:39, 133.27it/s]\n",
      "\u001b[34m\u001b[1mtrain: \u001b[0mScanning C:\\Users\\luke-\\Documents\\git\\yolo\\datasets\\coco\\train2017... 0 images, 1032 backgrounds, 0 corrupt:  17%|█▋        | 1032/6148 [00:19<00:25, 204.38it/s]\n",
      "\u001b[34m\u001b[1mtrain: \u001b[0mScanning C:\\Users\\luke-\\Documents\\git\\yolo\\datasets\\coco\\train2017... 0 images, 1259 backgrounds, 0 corrupt:  20%|██        | 1259/6148 [00:20<00:15, 313.24it/s]\n",
      "\u001b[34m\u001b[1mtrain: \u001b[0mScanning C:\\Users\\luke-\\Documents\\git\\yolo\\datasets\\coco\\train2017... 0 images, 1509 backgrounds, 0 corrupt:  25%|██▍       | 1509/6148 [00:20<00:09, 466.19it/s]\n",
      "\u001b[34m\u001b[1mtrain: \u001b[0mScanning C:\\Users\\luke-\\Documents\\git\\yolo\\datasets\\coco\\train2017... 0 images, 1749 backgrounds, 0 corrupt:  28%|██▊       | 1749/6148 [00:20<00:06, 641.40it/s]\n",
      "\u001b[34m\u001b[1mtrain: \u001b[0mScanning C:\\Users\\luke-\\Documents\\git\\yolo\\datasets\\coco\\train2017... 0 images, 2011 backgrounds, 0 corrupt:  33%|███▎      | 2011/6148 [00:20<00:04, 868.22it/s]\n",
      "\u001b[34m\u001b[1mtrain: \u001b[0mScanning C:\\Users\\luke-\\Documents\\git\\yolo\\datasets\\coco\\train2017... 0 images, 2271 backgrounds, 0 corrupt:  37%|███▋      | 2271/6148 [00:20<00:03, 1111.75it/s]\n",
      "\u001b[34m\u001b[1mtrain: \u001b[0mScanning C:\\Users\\luke-\\Documents\\git\\yolo\\datasets\\coco\\train2017... 0 images, 2532 backgrounds, 0 corrupt:  41%|████      | 2532/6148 [00:20<00:02, 1359.72it/s]\n",
      "\u001b[34m\u001b[1mtrain: \u001b[0mScanning C:\\Users\\luke-\\Documents\\git\\yolo\\datasets\\coco\\train2017... 0 images, 2787 backgrounds, 0 corrupt:  45%|████▌     | 2787/6148 [00:20<00:02, 1588.38it/s]\n",
      "\u001b[34m\u001b[1mtrain: \u001b[0mScanning C:\\Users\\luke-\\Documents\\git\\yolo\\datasets\\coco\\train2017... 0 images, 3036 backgrounds, 0 corrupt:  49%|████▉     | 3036/6148 [00:20<00:01, 1771.85it/s]\n",
      "\u001b[34m\u001b[1mtrain: \u001b[0mScanning C:\\Users\\luke-\\Documents\\git\\yolo\\datasets\\coco\\train2017... 0 images, 3368 backgrounds, 0 corrupt:  55%|█████▍    | 3368/6148 [00:20<00:01, 2130.62it/s]\n",
      "\u001b[34m\u001b[1mtrain: \u001b[0mScanning C:\\Users\\luke-\\Documents\\git\\yolo\\datasets\\coco\\train2017... 0 images, 3708 backgrounds, 0 corrupt:  60%|██████    | 3708/6148 [00:20<00:00, 2445.89it/s]\n",
      "\u001b[34m\u001b[1mtrain: \u001b[0mScanning C:\\Users\\luke-\\Documents\\git\\yolo\\datasets\\coco\\train2017... 0 images, 4046 backgrounds, 0 corrupt:  66%|██████▌   | 4046/6148 [00:21<00:00, 2691.53it/s]\n",
      "\u001b[34m\u001b[1mtrain: \u001b[0mScanning C:\\Users\\luke-\\Documents\\git\\yolo\\datasets\\coco\\train2017... 0 images, 4377 backgrounds, 0 corrupt:  71%|███████   | 4377/6148 [00:21<00:00, 2859.03it/s]\n",
      "\u001b[34m\u001b[1mtrain: \u001b[0mScanning C:\\Users\\luke-\\Documents\\git\\yolo\\datasets\\coco\\train2017... 0 images, 4690 backgrounds, 0 corrupt:  76%|███████▋  | 4690/6148 [00:21<00:00, 2873.73it/s]\n",
      "\u001b[34m\u001b[1mtrain: \u001b[0mScanning C:\\Users\\luke-\\Documents\\git\\yolo\\datasets\\coco\\train2017... 0 images, 4997 backgrounds, 0 corrupt:  81%|████████▏ | 4997/6148 [00:21<00:00, 2886.74it/s]\n",
      "\u001b[34m\u001b[1mtrain: \u001b[0mScanning C:\\Users\\luke-\\Documents\\git\\yolo\\datasets\\coco\\train2017... 0 images, 5327 backgrounds, 0 corrupt:  87%|████████▋ | 5327/6148 [00:21<00:00, 3003.82it/s]\n",
      "\u001b[34m\u001b[1mtrain: \u001b[0mScanning C:\\Users\\luke-\\Documents\\git\\yolo\\datasets\\coco\\train2017... 0 images, 5667 backgrounds, 0 corrupt:  92%|█████████▏| 5667/6148 [00:21<00:00, 3114.94it/s]\n",
      "\u001b[34m\u001b[1mtrain: \u001b[0mScanning C:\\Users\\luke-\\Documents\\git\\yolo\\datasets\\coco\\train2017... 0 images, 5986 backgrounds, 0 corrupt:  97%|█████████▋| 5986/6148 [00:21<00:00, 3054.33it/s]\n",
      "\u001b[34m\u001b[1mtrain: \u001b[0mScanning C:\\Users\\luke-\\Documents\\git\\yolo\\datasets\\coco\\train2017... 0 images, 6148 backgrounds, 0 corrupt: 100%|██████████| 6148/6148 [00:21<00:00, 283.39it/s] \n",
      "\u001b[34m\u001b[1mtrain: \u001b[0mWARNING  No labels found in C:\\Users\\luke-\\Documents\\git\\yolo\\datasets\\coco\\train2017.cache. See https://docs.ultralytics.com/yolov5/tutorials/train_custom_data\n",
      "\u001b[34m\u001b[1mtrain: \u001b[0mWARNING  Cache directory C:\\Users\\luke-\\Documents\\git\\yolo\\datasets\\coco is not writeable: [WinError 183] Cannot create a file when that file already exists: 'C:\\\\Users\\\\luke-\\\\Documents\\\\git\\\\yolo\\\\datasets\\\\coco\\\\train2017.cache.npy' -> 'C:\\\\Users\\\\luke-\\\\Documents\\\\git\\\\yolo\\\\datasets\\\\coco\\\\train2017.cache'\n",
      "Traceback (most recent call last):\n",
      "  File \"c:\\Users\\luke-\\Documents\\git\\yolo\\yolov5\\train.py\", line 986, in <module>\n",
      "    main(opt)\n",
      "  File \"c:\\Users\\luke-\\Documents\\git\\yolo\\yolov5\\train.py\", line 688, in main\n",
      "    train(opt.hyp, opt, device, callbacks)\n",
      "  File \"c:\\Users\\luke-\\Documents\\git\\yolo\\yolov5\\train.py\", line 285, in train\n",
      "    train_loader, dataset = create_dataloader(\n",
      "                            ^^^^^^^^^^^^^^^^^^\n",
      "  File \"c:\\Users\\luke-\\Documents\\git\\yolo\\yolov5\\utils\\dataloaders.py\", line 184, in create_dataloader\n",
      "    dataset = LoadImagesAndLabels(\n",
      "              ^^^^^^^^^^^^^^^^^^^^\n",
      "  File \"c:\\Users\\luke-\\Documents\\git\\yolo\\yolov5\\utils\\dataloaders.py\", line 611, in __init__\n",
      "    assert nf > 0 or not augment, f\"{prefix}No labels found in {cache_path}, can not start training. {HELP_URL}\"\n",
      "           ^^^^^^^^^^^^^^^^^^^^^\n",
      "AssertionError: \u001b[34m\u001b[1mtrain: \u001b[0mNo labels found in C:\\Users\\luke-\\Documents\\git\\yolo\\datasets\\coco\\train2017.cache, can not start training. See https://docs.ultralytics.com/yolov5/tutorials/train_custom_data\n"
     ]
    }
   ],
   "source": [
    "!python train.py --img 640 --batch 16 --epochs 100 --data coco.yaml --cfg models/yolov5n.yaml --weights '' --name yolov5n_coco --cache"
   ]
  }
 ],
 "metadata": {
  "kernelspec": {
   "display_name": ".venv",
   "language": "python",
   "name": "python3"
  },
  "language_info": {
   "codemirror_mode": {
    "name": "ipython",
    "version": 3
   },
   "file_extension": ".py",
   "mimetype": "text/x-python",
   "name": "python",
   "nbconvert_exporter": "python",
   "pygments_lexer": "ipython3",
   "version": "3.11.9"
  }
 },
 "nbformat": 4,
 "nbformat_minor": 2
}
