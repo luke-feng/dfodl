{
 "cells": [
  {
   "cell_type": "code",
   "execution_count": 5,
   "metadata": {},
   "outputs": [],
   "source": [
    "from serpapi import GoogleSearch\n",
    "\n",
    "def google_image_api(query, ijn, num_images=10000):\n",
    "    params = {\n",
    "        \"q\": query,\n",
    "        \"tbm\": \"isch\",\n",
    "        \"num\": num_images,\n",
    "        \"api_key\": \"cea99d066409fd7850a0d5c37c1ebf1c5d6dfa331d909fffa52a85047315b346\",\n",
    "        \"ijn\":ijn\n",
    "    }\n",
    "    \n",
    "    search = GoogleSearch(params)\n",
    "    results = search.get_dict()\n",
    "    image_urls = [item[\"original\"] for item in results[\"images_results\"][:num_images]]\n",
    "\n",
    "    return image_urls\n",
    "\n"
   ]
  },
  {
   "cell_type": "code",
   "execution_count": 8,
   "metadata": {},
   "outputs": [
    {
     "data": {
      "text/plain": [
       "'https://i.etsystatic.com/37043708/r/il/c2b5e7/4116940488/il_fullxfull.4116940488_koxk.jpg'"
      ]
     },
     "execution_count": 8,
     "metadata": {},
     "output_type": "execute_result"
    }
   ],
   "source": [
    "image_links[0]"
   ]
  },
  {
   "cell_type": "code",
   "execution_count": 6,
   "metadata": {},
   "outputs": [],
   "source": [
    "image_links_1 = google_image_api(\"car with baby sticker\",1, 100)"
   ]
  },
  {
   "cell_type": "code",
   "execution_count": 10,
   "metadata": {},
   "outputs": [
    {
     "data": {
      "text/plain": [
       "'https://www.pennyandprince.com/uploads/5/1/3/3/51331257/s474748300754869697_p23_i3_w2550.jpeg'"
      ]
     },
     "execution_count": 10,
     "metadata": {},
     "output_type": "execute_result"
    }
   ],
   "source": [
    "image_links_1[0]"
   ]
  },
  {
   "cell_type": "code",
   "execution_count": 22,
   "metadata": {},
   "outputs": [
    {
     "ename": "KeyError",
     "evalue": "'images_results'",
     "output_type": "error",
     "traceback": [
      "\u001b[31m---------------------------------------------------------------------------\u001b[39m",
      "\u001b[31mKeyError\u001b[39m                                  Traceback (most recent call last)",
      "\u001b[36mCell\u001b[39m\u001b[36m \u001b[39m\u001b[32mIn[22]\u001b[39m\u001b[32m, line 3\u001b[39m\n\u001b[32m      1\u001b[39m image_list = []\n\u001b[32m      2\u001b[39m \u001b[38;5;28;01mfor\u001b[39;00m i \u001b[38;5;129;01min\u001b[39;00m \u001b[38;5;28mrange\u001b[39m(\u001b[32m0\u001b[39m,\u001b[32m99\u001b[39m):\n\u001b[32m----> \u001b[39m\u001b[32m3\u001b[39m     image_links_k = \u001b[43mgoogle_image_api\u001b[49m\u001b[43m(\u001b[49m\u001b[33;43m\"\u001b[39;49m\u001b[33;43mcar with baby sticker\u001b[39;49m\u001b[33;43m\"\u001b[39;49m\u001b[43m,\u001b[49m\u001b[43mi\u001b[49m\u001b[43m,\u001b[49m\u001b[43m \u001b[49m\u001b[32;43m100\u001b[39;49m\u001b[43m)\u001b[49m\n\u001b[32m      4\u001b[39m     image_list.append(image_links_k)\n",
      "\u001b[36mCell\u001b[39m\u001b[36m \u001b[39m\u001b[32mIn[5]\u001b[39m\u001b[32m, line 14\u001b[39m, in \u001b[36mgoogle_image_api\u001b[39m\u001b[34m(query, ijn, num_images)\u001b[39m\n\u001b[32m     12\u001b[39m search = GoogleSearch(params)\n\u001b[32m     13\u001b[39m results = search.get_dict()\n\u001b[32m---> \u001b[39m\u001b[32m14\u001b[39m image_urls = [item[\u001b[33m\"\u001b[39m\u001b[33moriginal\u001b[39m\u001b[33m\"\u001b[39m] \u001b[38;5;28;01mfor\u001b[39;00m item \u001b[38;5;129;01min\u001b[39;00m \u001b[43mresults\u001b[49m\u001b[43m[\u001b[49m\u001b[33;43m\"\u001b[39;49m\u001b[33;43mimages_results\u001b[39;49m\u001b[33;43m\"\u001b[39;49m\u001b[43m]\u001b[49m[:num_images]]\n\u001b[32m     16\u001b[39m \u001b[38;5;28;01mreturn\u001b[39;00m image_urls\n",
      "\u001b[31mKeyError\u001b[39m: 'images_results'"
     ]
    }
   ],
   "source": [
    "image_list = []\n",
    "for i in range(0,99):\n",
    "    image_links_k = google_image_api(\"car with baby sticker\",i, 100)\n",
    "    image_list.append(image_links_k)"
   ]
  },
  {
   "cell_type": "code",
   "execution_count": 28,
   "metadata": {},
   "outputs": [],
   "source": [
    "image_list_all = []\n",
    "for i in image_list:\n",
    "    image_list_all += i"
   ]
  },
  {
   "cell_type": "code",
   "execution_count": 30,
   "metadata": {},
   "outputs": [
    {
     "name": "stdout",
     "output_type": "stream",
     "text": [
      "📥 开始下载 823 张图片...\n"
     ]
    },
    {
     "name": "stderr",
     "output_type": "stream",
     "text": [
      "100%|██████████| 823/823 [00:23<00:00, 35.29it/s]"
     ]
    },
    {
     "name": "stdout",
     "output_type": "stream",
     "text": [
      "\n",
      "⚠ 失败列表：\n",
      "❌ 3: 下载失败 - HTTPSConnectionPool(host='www.washingtonpost.com', port=443): Read timed out. (read timeout=10)\n",
      "❌ 11: 请求失败 403\n",
      "❌ 43: 请求失败 403\n",
      "❌ 49: 请求失败 403\n",
      "❌ 61: 请求失败 403\n",
      "❌ 68: 请求失败 403\n",
      "❌ 86: 请求失败 403\n",
      "❌ 105: 请求失败 403\n",
      "❌ 118: 请求失败 403\n",
      "❌ 133: 下载失败 - HTTPSConnectionPool(host='www.gobizkorea.com', port=443): Max retries exceeded with url: /image/goodsImage.do?goods_no=GS2023092233250&image_se_code=MAIN_THUMB10A (Caused by SSLError(SSLError(1, '[SSL: SSLV3_ALERT_HANDSHAKE_FAILURE] sslv3 alert handshake failure (_ssl.c:1002)')))\n",
      "🎉 所有可下载的图片已完成！\n"
     ]
    },
    {
     "name": "stderr",
     "output_type": "stream",
     "text": [
      "\n"
     ]
    }
   ],
   "source": [
    "import os\n",
    "import json\n",
    "import requests\n",
    "from tqdm import tqdm\n",
    "from concurrent.futures import ThreadPoolExecutor\n",
    "\n",
    "# 设置下载路径\n",
    "OUTPUT_DIR = \"downloaded_images\"\n",
    "os.makedirs(OUTPUT_DIR, exist_ok=True)\n",
    "\n",
    "# 下载单张图片\n",
    "def download_image(url, index):\n",
    "    try:\n",
    "        response = requests.get(url, stream=True, timeout=10)\n",
    "        if response.status_code == 200:\n",
    "            ext = url.split(\".\")[-1]  # 获取图片扩展名\n",
    "            if ext.lower() not in [\"jpg\", \"jpeg\", \"png\"]:\n",
    "                ext = \"jpg\"  # 默认 jpg 格式\n",
    "            \n",
    "            image_path = os.path.join(OUTPUT_DIR, f\"image_{index}.{ext}\")\n",
    "            with open(image_path, \"wb\") as f:\n",
    "                for chunk in response.iter_content(1024):\n",
    "                    f.write(chunk)\n",
    "            return f\"✅ {index}: 下载成功 -> {image_path}\"\n",
    "        else:\n",
    "            return f\"❌ {index}: 请求失败 {response.status_code}\"\n",
    "    except Exception as e:\n",
    "        return f\"❌ {index}: 下载失败 - {e}\"\n",
    "\n",
    "# 多线程批量下载\n",
    "def bulk_download_images(image_links, max_threads=10):\n",
    "    print(f\"📥 开始下载 {len(image_links)} 张图片...\")\n",
    "    with ThreadPoolExecutor(max_threads) as executor:\n",
    "        results = list(tqdm(executor.map(download_image, image_links, range(len(image_links))), total=len(image_links)))\n",
    "\n",
    "    # 输出失败情况\n",
    "    failed_downloads = [res for res in results if res.startswith(\"❌\")]\n",
    "    if failed_downloads:\n",
    "        print(\"\\n⚠ 失败列表：\")\n",
    "        for fail in failed_downloads[:10]:  # 仅显示前 10 个失败\n",
    "            print(fail)\n",
    "    print(\"🎉 所有可下载的图片已完成！\")\n",
    "\n",
    "bulk_download_images(image_list_all, max_threads=20)\n"
   ]
  }
 ],
 "metadata": {
  "kernelspec": {
   "display_name": ".venv",
   "language": "python",
   "name": "python3"
  },
  "language_info": {
   "codemirror_mode": {
    "name": "ipython",
    "version": 3
   },
   "file_extension": ".py",
   "mimetype": "text/x-python",
   "name": "python",
   "nbconvert_exporter": "python",
   "pygments_lexer": "ipython3",
   "version": "3.11.4"
  }
 },
 "nbformat": 4,
 "nbformat_minor": 2
}
